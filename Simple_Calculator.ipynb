{
 "cells": [
  {
   "cell_type": "code",
   "execution_count": 5,
   "metadata": {},
   "outputs": [
    {
     "name": "stdout",
     "output_type": "stream",
     "text": [
      "9.0\n"
     ]
    }
   ],
   "source": [
    "#Make a Simple Calculator\n",
    "def addition(x,y):\n",
    "    return x+y\n",
    "\n",
    "def subtract(x,y):\n",
    "    return x-y\n",
    "\n",
    "def Division(x,y):\n",
    "    return x/y\n",
    "\n",
    "def multiplication(x,y):\n",
    "    return x*y\n",
    "\n",
    "#take input from user\n",
    "num1 = float(input(\"Enter first number\"))\n",
    "operation = input(\"choose operator(+,-./.*):\")\n",
    "num2 = float(input(\"Enter second number\"))\n",
    "\n",
    "\n",
    "if operation == \"+\":\n",
    "    print(addition(num1,num2))\n",
    "elif operation == \"-\":\n",
    "    print(subtract(num1,num2))\n",
    "elif operation == \"/\":\n",
    "    print(Division(num1,num2))\n",
    "elif  operation == \"*\":\n",
    "    print(multiplication(num1, num2))\n",
    "else:\n",
    "    print (\"invalid input\")"
   ]
  },
  {
   "cell_type": "code",
   "execution_count": null,
   "metadata": {},
   "outputs": [],
   "source": []
  }
 ],
 "metadata": {
  "kernelspec": {
   "display_name": "Python 3",
   "language": "python",
   "name": "python3"
  },
  "language_info": {
   "codemirror_mode": {
    "name": "ipython",
    "version": 3
   },
   "file_extension": ".py",
   "mimetype": "text/x-python",
   "name": "python",
   "nbconvert_exporter": "python",
   "pygments_lexer": "ipython3",
   "version": "3.13.1"
  }
 },
 "nbformat": 4,
 "nbformat_minor": 2
}
