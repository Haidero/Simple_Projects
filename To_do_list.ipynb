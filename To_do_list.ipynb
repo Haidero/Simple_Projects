{
 "cells": [
  {
   "cell_type": "code",
   "execution_count": 3,
   "metadata": {},
   "outputs": [
    {
     "name": "stdout",
     "output_type": "stream",
     "text": [
      "your tasks are: \n",
      "Assignment 1\n",
      "Assignment of ethics\n",
      "Python_coding\n",
      "Go to school to taken brother\n"
     ]
    }
   ],
   "source": [
    "to_do_list= []\n",
    "#add you tasks and press enter \n",
    "while True:\n",
    "    task = input(\"Enter a Task to do(or 'done' or to stop): \")\n",
    "#write \"done\" after adding your tasks\n",
    "    if task == 'done':\n",
    "      break\n",
    "    else:\n",
    "       to_do_list.append(task)\n",
    "print (\"your tasks are: \")\n",
    "for task in to_do_list:\n",
    "   print(task)\n",
    "\n"
   ]
  },
  {
   "cell_type": "code",
   "execution_count": null,
   "metadata": {},
   "outputs": [],
   "source": []
  }
 ],
 "metadata": {
  "kernelspec": {
   "display_name": "Python 3",
   "language": "python",
   "name": "python3"
  },
  "language_info": {
   "codemirror_mode": {
    "name": "ipython",
    "version": 3
   },
   "file_extension": ".py",
   "mimetype": "text/x-python",
   "name": "python",
   "nbconvert_exporter": "python",
   "pygments_lexer": "ipython3",
   "version": "3.13.1"
  }
 },
 "nbformat": 4,
 "nbformat_minor": 2
}
